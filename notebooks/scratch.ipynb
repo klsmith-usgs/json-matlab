{
 "cells": [
  {
   "cell_type": "code",
   "execution_count": 2,
   "metadata": {
    "collapsed": true
   },
   "outputs": [],
   "source": [
    "import os\n",
    "import sys\n",
    "module_path = os.path.abspath(os.path.join('..'))\n",
    "if module_path not in sys.path:\n",
    "    sys.path.insert(0, module_path)"
   ]
  },
  {
   "cell_type": "code",
   "execution_count": 3,
   "metadata": {
    "collapsed": false
   },
   "outputs": [],
   "source": [
    "import api\n",
    "import geo_utils\n",
    "import json\n",
    "import json_matlab\n",
    "import numpy as np\n",
    "import scipy.io as sio"
   ]
  },
  {
   "cell_type": "code",
   "execution_count": null,
   "metadata": {
    "collapsed": false
   },
   "outputs": [],
   "source": [
    "out = r'D:\\temp\\TSFitmap'\n",
    "json_matlab.run(out, 5, 2, 4)"
   ]
  },
  {
   "cell_type": "code",
   "execution_count": 8,
   "metadata": {
    "collapsed": false
   },
   "outputs": [
    {
     "data": {
      "text/plain": [
       "(GeoExtent(x_min=-1815585, y_max=3014805, x_max=-1665585, y_min=2864805),\n",
       " GeoAffine(ul_x=-1815585, x_res=30, rot_1=0, ul_y=3014805, rot_2=0, y_res=-30))"
      ]
     },
     "execution_count": 8,
     "metadata": {},
     "output_type": "execute_result"
    }
   ],
   "source": [
    "geo_utils.extent_from_hv(5, 2)"
   ]
  },
  {
   "cell_type": "code",
   "execution_count": 8,
   "metadata": {
    "collapsed": false
   },
   "outputs": [],
   "source": [
    "resp = api.api_request(-1665685, 2864905)"
   ]
  },
  {
   "cell_type": "code",
   "execution_count": 9,
   "metadata": {
    "collapsed": false
   },
   "outputs": [
    {
     "data": {
      "text/plain": [
       "{u'algorithm': u'lcmap-pyccd:1.1.0',\n",
       " u'algorithm-available': True,\n",
       " u'inputs_url': u'http://lcmap-test.cr.usgs.gov:80/landsat/tiles?x=-1665685&y=2864905&acquired=1980-01-01/2015-12-31&ubid=LANDSAT_4/TM/cfmask&ubid=LANDSAT_4/TM/sr_band1&ubid=LANDSAT_4/TM/sr_band2&ubid=LANDSAT_4/TM/sr_band3&ubid=LANDSAT_4/TM/sr_band4&ubid=LANDSAT_4/TM/sr_band5&ubid=LANDSAT_4/TM/sr_band7&ubid=LANDSAT_4/TM/toa_band6&ubid=LANDSAT_5/TM/cfmask&ubid=LANDSAT_5/TM/sr_band1&ubid=LANDSAT_5/TM/sr_band2&ubid=LANDSAT_5/TM/sr_band3&ubid=LANDSAT_5/TM/sr_band4&ubid=LANDSAT_5/TM/sr_band5&ubid=LANDSAT_5/TM/sr_band7&ubid=LANDSAT_5/TM/toa_band6&ubid=LANDSAT_7/ETM/cfmask&ubid=LANDSAT_7/ETM/sr_band1&ubid=LANDSAT_7/ETM/sr_band2&ubid=LANDSAT_7/ETM/sr_band3&ubid=LANDSAT_7/ETM/sr_band4&ubid=LANDSAT_7/ETM/sr_band5&ubid=LANDSAT_7/ETM/sr_band7&ubid=LANDSAT_7/ETM/toa_band6',\n",
       " u'refresh': False,\n",
       " u'source-data-available': True,\n",
       " u'tile_update_requested': u'2017-03-28T20:02:57.059Z',\n",
       " u'tile_x': -1668585,\n",
       " u'tile_y': 2867805,\n",
       " u'x': -1665685,\n",
       " u'y': 2864905}"
      ]
     },
     "execution_count": 9,
     "metadata": {},
     "output_type": "execute_result"
    }
   ],
   "source": [
    "resp"
   ]
  },
  {
   "cell_type": "code",
   "execution_count": 6,
   "metadata": {
    "collapsed": false
   },
   "outputs": [
    {
     "data": {
      "text/plain": [
       "{u'algorithm': u'lcmap-pyccd:1.1.0',\n",
       " u'algorithm-available': True,\n",
       " u'inputs_md5': u'not implemented',\n",
       " u'inputs_url': u'http://lcmap-test.cr.usgs.gov:80/landsat/tiles?x=-2220585&y=1928535&acquired=1980-01-01/2015-12-31&ubid=LANDSAT_4/TM/cfmask&ubid=LANDSAT_4/TM/sr_band1&ubid=LANDSAT_4/TM/sr_band2&ubid=LANDSAT_4/TM/sr_band3&ubid=LANDSAT_4/TM/sr_band4&ubid=LANDSAT_4/TM/sr_band5&ubid=LANDSAT_4/TM/sr_band7&ubid=LANDSAT_4/TM/toa_band6&ubid=LANDSAT_5/TM/cfmask&ubid=LANDSAT_5/TM/sr_band1&ubid=LANDSAT_5/TM/sr_band2&ubid=LANDSAT_5/TM/sr_band3&ubid=LANDSAT_5/TM/sr_band4&ubid=LANDSAT_5/TM/sr_band5&ubid=LANDSAT_5/TM/sr_band7&ubid=LANDSAT_5/TM/toa_band6&ubid=LANDSAT_7/ETM/cfmask&ubid=LANDSAT_7/ETM/sr_band1&ubid=LANDSAT_7/ETM/sr_band2&ubid=LANDSAT_7/ETM/sr_band3&ubid=LANDSAT_7/ETM/sr_band4&ubid=LANDSAT_7/ETM/sr_band5&ubid=LANDSAT_7/ETM/sr_band7&ubid=LANDSAT_7/ETM/toa_band6',\n",
       " u'refresh': False,\n",
       " u'result': None,\n",
       " u'result_md5': None,\n",
       " u'result_ok': None,\n",
       " u'result_produced': None,\n",
       " u'source-data-available': True,\n",
       " u'tile_update_requested': u'2017-03-18T16:54:09Z',\n",
       " u'tile_x': -2220585,\n",
       " u'tile_y': 1928805,\n",
       " u'x': -2220585,\n",
       " u'y': 1928535}"
      ]
     },
     "execution_count": 6,
     "metadata": {},
     "output_type": "execute_result"
    }
   ],
   "source": [
    "api.api_request(-2220585, 1928535)"
   ]
  },
  {
   "cell_type": "code",
   "execution_count": 3,
   "metadata": {
    "collapsed": false
   },
   "outputs": [
    {
     "name": "stdout",
     "output_type": "stream",
     "text": [
      "MainProcess: working line: 1000\n",
      "MainProcess: writing line: 1000, time: 816.440999985\n"
     ]
    }
   ],
   "source": [
    "json_matlab.worker((r'D:\\lcmap\\stuff', 5, 2, 1000))"
   ]
  },
  {
   "cell_type": "code",
   "execution_count": 12,
   "metadata": {
    "collapsed": false
   },
   "outputs": [],
   "source": [
    "ta = np.zeros(1, dtype=[('f1', 'i4', (2, 2)), ('f2', 'i4')])\n",
    "tb = np.zeros(1, dtype=[('f1', 'i4', (2, 2)), ('f2', 'i4')])"
   ]
  },
  {
   "cell_type": "code",
   "execution_count": 13,
   "metadata": {
    "collapsed": false
   },
   "outputs": [],
   "source": [
    "ta[0]['f1'] = [[1, 1],\n",
    "               [1, 1]]\n",
    "ta[0]['f2'] = 1\n",
    "tb[0]['f1'] = [[2, 2],\n",
    "               [2, 2]]\n",
    "tb[0]['f2'] = 2"
   ]
  },
  {
   "cell_type": "code",
   "execution_count": 17,
   "metadata": {
    "collapsed": false
   },
   "outputs": [
    {
     "data": {
      "text/plain": [
       "array([[[1, 1],\n",
       "        [1, 1]],\n",
       "\n",
       "       [[2, 2],\n",
       "        [2, 2]]])"
      ]
     },
     "execution_count": 17,
     "metadata": {},
     "output_type": "execute_result"
    }
   ],
   "source": [
    "tc = np.concatenate((ta, tb))\n",
    "tc['f1']"
   ]
  },
  {
   "cell_type": "code",
   "execution_count": 19,
   "metadata": {
    "collapsed": false
   },
   "outputs": [],
   "source": [
    "def test_record():\n",
    "    return np.zeros(1, dtype=[('pos', 'i4'), ('coefs', 'f4', (8, 7))])\n",
    "\n",
    "file = r'D:\\lcmap\\stuff\\test_out.mat'\n",
    "big_arr = test_record()\n",
    "big_arr['pos'] = 1\n",
    "\n",
    "for i in range(1, 5000):\n",
    "    arr = test_record()\n",
    "    arr['pos'] = i\n",
    "    big_arr = np.concatenate((big_arr, arr))\n",
    "    \n",
    "sio.savemat(file, {'rec_cg': big_arr})"
   ]
  },
  {
   "cell_type": "code",
   "execution_count": 3,
   "metadata": {
    "collapsed": false
   },
   "outputs": [
    {
     "name": "stdout",
     "output_type": "stream",
     "text": [
      "GeoExtent(x_min=-1815585, y_max=3014805, x_max=-1665585, y_min=2864805)\n"
     ]
    }
   ],
   "source": [
    "ext, geo = geo_utils.extent_from_hv(5, 2)\n",
    "print ext"
   ]
  },
  {
   "cell_type": "code",
   "execution_count": 5,
   "metadata": {
    "collapsed": false
   },
   "outputs": [
    {
     "data": {
      "text/plain": [
       "RowColumn(row=36209, column=-13500)"
      ]
     },
     "execution_count": 5,
     "metadata": {},
     "output_type": "execute_result"
    }
   ],
   "source": [
    "coord = geo_utils.GeoCoordinate(x=-2220585, y=1928535)\n",
    "geo_utils.geo_to_rowcol(geo, coord)"
   ]
  },
  {
   "cell_type": "code",
   "execution_count": 6,
   "metadata": {
    "collapsed": true
   },
   "outputs": [],
   "source": [
    "file = r'D:\\lcmap\\prods\\coverage_.tif'\n",
    "ds = geo_utils.get_raster_ds(file)\n",
    "arr = ds.GetRasterBand(1).ReadAsArray()"
   ]
  },
  {
   "cell_type": "code",
   "execution_count": 13,
   "metadata": {
    "collapsed": false
   },
   "outputs": [
    {
     "data": {
      "text/plain": [
       "(array([  0,   0,   0, ..., 528, 528, 528], dtype=int64),\n",
       " array([1602, 1640, 1834, ..., 4997, 4998, 4999], dtype=int64))"
      ]
     },
     "execution_count": 13,
     "metadata": {},
     "output_type": "execute_result"
    }
   ],
   "source": [
    "np.where(arr == 0)"
   ]
  }
 ],
 "metadata": {
  "anaconda-cloud": {},
  "kernelspec": {
   "display_name": "Python [conda env:scratch-gdal]",
   "language": "python",
   "name": "conda-env-scratch-gdal-py"
  },
  "language_info": {
   "codemirror_mode": {
    "name": "ipython",
    "version": 2
   },
   "file_extension": ".py",
   "mimetype": "text/x-python",
   "name": "python",
   "nbconvert_exporter": "python",
   "pygments_lexer": "ipython2",
   "version": "2.7.13"
  }
 },
 "nbformat": 4,
 "nbformat_minor": 0
}
