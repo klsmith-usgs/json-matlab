{
 "cells": [
  {
   "cell_type": "code",
   "execution_count": 10,
   "metadata": {
    "collapsed": true
   },
   "outputs": [],
   "source": [
    "import os\n",
    "import sys\n",
    "module_path = os.path.abspath(os.path.join('..'))\n",
    "if module_path not in sys.path:\n",
    "    sys.path.insert(0, module_path)\n",
    "import random"
   ]
  },
  {
   "cell_type": "code",
   "execution_count": 11,
   "metadata": {
    "collapsed": true
   },
   "outputs": [],
   "source": [
    "import geo_utils"
   ]
  },
  {
   "cell_type": "code",
   "execution_count": 13,
   "metadata": {
    "collapsed": true
   },
   "outputs": [],
   "source": [
    "import urllib2\n",
    "\n",
    "__HOST__ = r'http://lcmap-test.cr.usgs.gov/changes/results'\n",
    "__ALGORITHM__ = r'lcmap-pyccd:1.1.0'\n",
    "\n",
    "\n",
    "def api_request(x, y, refresh=False):\n",
    "    endpoint = '/'.join([__HOST__, __ALGORITHM__, str(x), str(y)]) + '?refresh={}'.format(str(refresh).lower())\n",
    "    \n",
    "    request = urllib2.Request(endpoint)\n",
    "\n",
    "    #     base64string = (base64\n",
    "    #                     .encodestring('%s:%s' % (username, password))\n",
    "    #                     .replace('\\n', ''))\n",
    "    #     request.add_header(\"Authorization\", \"Basic %s\" % base64string)\n",
    "\n",
    "    try:\n",
    "        result = urllib2.urlopen(request)\n",
    "    except urllib2.HTTPError as e:\n",
    "        result = e\n",
    "\n",
    "    return json.loads(result.read())"
   ]
  },
  {
   "cell_type": "code",
   "execution_count": 16,
   "metadata": {
    "collapsed": true
   },
   "outputs": [],
   "source": [
    "def request_tile(h, v, refresh=False):\n",
    "    ext, _ = geo_utils.extent_from_hv(h, v)\n",
    "    \n",
    "    resps = []\n",
    "    for y in xrange(ext.y_max, ext.y_max - 5000 * 30, -3000):\n",
    "        for x in xrange(ext.x_min, ext.x_min + 5000 * 30, 3000):\n",
    "            resps.append(api_request(x, y, refresh=refresh))"
   ]
  },
  {
   "cell_type": "code",
   "execution_count": 15,
   "metadata": {
    "collapsed": false
   },
   "outputs": [
    {
     "name": "stdout",
     "output_type": "stream",
     "text": [
      "(1964805, -2265585)\n"
     ]
    }
   ],
   "source": [
    "request_tile(2, 9, True)"
   ]
  }
 ],
 "metadata": {
  "anaconda-cloud": {},
  "kernelspec": {
   "display_name": "Python [conda env:json-matlab]",
   "language": "python",
   "name": "conda-env-json-matlab-py"
  },
  "language_info": {
   "codemirror_mode": {
    "name": "ipython",
    "version": 2
   },
   "file_extension": ".py",
   "mimetype": "text/x-python",
   "name": "python",
   "nbconvert_exporter": "python",
   "pygments_lexer": "ipython2",
   "version": "2.7.13"
  }
 },
 "nbformat": 4,
 "nbformat_minor": 0
}
