{
 "cells": [
  {
   "cell_type": "code",
   "execution_count": 1,
   "metadata": {
    "collapsed": true
   },
   "outputs": [],
   "source": [
    "import os\n",
    "import sys\n",
    "module_path = os.path.abspath(os.path.join('..'))\n",
    "if module_path not in sys.path:\n",
    "    sys.path.insert(0, module_path)"
   ]
  },
  {
   "cell_type": "code",
   "execution_count": 21,
   "metadata": {
    "collapsed": true
   },
   "outputs": [],
   "source": [
    "import api\n",
    "import geo_utils\n",
    "import json\n",
    "import requests\n",
    "import numpy as np"
   ]
  },
  {
   "cell_type": "code",
   "execution_count": 4,
   "metadata": {
    "collapsed": true
   },
   "outputs": [],
   "source": [
    "ext, affine = geo_utils.extent_from_hv(5, 2)\n",
    "# x: -1764585 y: 2882805\n",
    "\n",
    "# resp = api.fetch_results_tile(-1764585, 2882805)"
   ]
  },
  {
   "cell_type": "code",
   "execution_count": 6,
   "metadata": {
    "collapsed": false
   },
   "outputs": [
    {
     "data": {
      "text/plain": [
       "GeoAffine(ul_x=-1815585, x_res=30, rot_1=0, ul_y=3014805, rot_2=0, y_res=-30)"
      ]
     },
     "execution_count": 6,
     "metadata": {},
     "output_type": "execute_result"
    }
   ],
   "source": [
    "affine"
   ]
  },
  {
   "cell_type": "code",
   "execution_count": 24,
   "metadata": {
    "collapsed": false
   },
   "outputs": [],
   "source": [
    "x, y = -1806586, 2999805\n",
    "# resp2 = requests.get('http://lcmap-test.cr.usgs.gov/v1/changes/results/lcmap-pyccd:1.4.0/{x}/{y}'\n",
    "#                     .format(x=ext.x_min, y=ext.y_max))\n",
    "resp2 = requests.get('http://lcmap-test.cr.usgs.gov/v1/changes/results/lcmap-pyccd:1.4.0/{x}/{y}'\n",
    "                    .format(x=x, y=y), params={'refresh': True})"
   ]
  },
  {
   "cell_type": "code",
   "execution_count": 25,
   "metadata": {
    "collapsed": false
   },
   "outputs": [
    {
     "data": {
      "text/plain": [
       "<Response [202]>"
      ]
     },
     "execution_count": 25,
     "metadata": {},
     "output_type": "execute_result"
    }
   ],
   "source": [
    "resp2"
   ]
  },
  {
   "cell_type": "code",
   "execution_count": 16,
   "metadata": {
    "collapsed": false
   },
   "outputs": [
    {
     "data": {
      "text/plain": [
       "[u'=LANDSAT_4/TM/BTB6&',\n",
       " u'=LANDSAT_4/TM/PIXELQA&',\n",
       " u'=LANDSAT_4/TM/SRB1&',\n",
       " u'=LANDSAT_4/TM/SRB2&',\n",
       " u'=LANDSAT_4/TM/SRB3&',\n",
       " u'=LANDSAT_4/TM/SRB4&',\n",
       " u'=LANDSAT_4/TM/SRB5&',\n",
       " u'=LANDSAT_4/TM/SRB7&',\n",
       " u'=LANDSAT_5/TM/BTB6&',\n",
       " u'=LANDSAT_5/TM/PIXELQA&',\n",
       " u'=LANDSAT_5/TM/SRB1&',\n",
       " u'=LANDSAT_5/TM/SRB2&',\n",
       " u'=LANDSAT_5/TM/SRB3&',\n",
       " u'=LANDSAT_5/TM/SRB4&',\n",
       " u'=LANDSAT_5/TM/SRB5&',\n",
       " u'=LANDSAT_5/TM/SRB7&',\n",
       " u'=LANDSAT_7/ETM/BTB6&',\n",
       " u'=LANDSAT_7/ETM/PIXELQA&',\n",
       " u'=LANDSAT_7/ETM/SRB1&',\n",
       " u'=LANDSAT_7/ETM/SRB2&',\n",
       " u'=LANDSAT_7/ETM/SRB3&',\n",
       " u'=LANDSAT_7/ETM/SRB4',\n",
       " u'=LANDSAT_7/ETM/SRB5&',\n",
       " u'=LANDSAT_7/ETM/SRB7&',\n",
       " u'=LANDSAT_8/OLI_TIRS/BTB10&',\n",
       " u'=LANDSAT_8/OLI_TIRS/PIXELQA&',\n",
       " u'=LANDSAT_8/OLI_TIRS/SRB2&',\n",
       " u'=LANDSAT_8/OLI_TIRS/SRB3&',\n",
       " u'=LANDSAT_8/OLI_TIRS/SRB4&',\n",
       " u'=LANDSAT_8/OLI_TIRS/SRB5&',\n",
       " u'=LANDSAT_8/OLI_TIRS/SRB6&',\n",
       " u'=LANDSAT_8/OLI_TIRS/SRB7&',\n",
       " u'http://lcmap-test.cr.usgs.gov:80/v1/landsat/chips?x=-1806585&y=2999805&acquired=1982-01-01/2015-12-31&']"
      ]
     },
     "execution_count": 16,
     "metadata": {},
     "output_type": "execute_result"
    }
   ],
   "source": [
    "ubids = resp2.json()['inputs_url'].split('ubid')\n",
    "sorted(ubids)"
   ]
  },
  {
   "cell_type": "code",
   "execution_count": 18,
   "metadata": {
    "collapsed": false
   },
   "outputs": [],
   "source": [
    "result = json.loads(resp2.json()['result'])"
   ]
  },
  {
   "cell_type": "code",
   "execution_count": 20,
   "metadata": {
    "collapsed": false
   },
   "outputs": [],
   "source": [
    "mask = result['processing_mask']"
   ]
  },
  {
   "cell_type": "code",
   "execution_count": 22,
   "metadata": {
    "collapsed": false
   },
   "outputs": [
    {
     "data": {
      "text/plain": [
       "0"
      ]
     },
     "execution_count": 22,
     "metadata": {},
     "output_type": "execute_result"
    }
   ],
   "source": [
    "np.sum(mask)"
   ]
  }
 ],
 "metadata": {
  "anaconda-cloud": {},
  "kernelspec": {
   "display_name": "Python [conda env:json-matlab]",
   "language": "python",
   "name": "conda-env-json-matlab-py"
  },
  "language_info": {
   "codemirror_mode": {
    "name": "ipython",
    "version": 2
   },
   "file_extension": ".py",
   "mimetype": "text/x-python",
   "name": "python",
   "nbconvert_exporter": "python",
   "pygments_lexer": "ipython2",
   "version": "2.7.13"
  }
 },
 "nbformat": 4,
 "nbformat_minor": 0
}
