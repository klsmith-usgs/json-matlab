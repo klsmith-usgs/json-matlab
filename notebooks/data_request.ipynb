{
 "cells": [
  {
   "cell_type": "code",
   "execution_count": 10,
   "metadata": {
    "collapsed": true
   },
   "outputs": [],
   "source": [
    "import os\n",
    "import sys\n",
    "module_path = os.path.abspath(os.path.join('..'))\n",
    "if module_path not in sys.path:\n",
    "    sys.path.insert(0, module_path)\n",
    "import random"
   ]
  },
  {
   "cell_type": "code",
   "execution_count": null,
   "metadata": {
    "collapsed": true
   },
   "outputs": [],
   "source": [
    "from collections import namedtuple\n",
    "\n",
    "GeoExtent = namedtuple('GeoExtent', ['x_min', 'y_max', 'x_max', 'y_min'])\n",
    "GeoAffine = namedtuple('GeoAffine', ['ul_x', 'x_res', 'rot_1', 'ul_y', 'rot_2', 'y_res'])\n",
    "\n",
    "CONUS_EXTENT = GeoExtent(x_min=-2565585,\n",
    "                         y_min=14805,\n",
    "                         x_max=2384415,\n",
    "                         y_max=3314805)\n",
    "\n",
    "\n",
    "def extent_from_hv(h, v, loc='conus'):\n",
    "    \"\"\"\n",
    "    Retrieve the geospatial extent for the given tile h/v\n",
    "    :param h:\n",
    "    :param v:\n",
    "    :param loc:\n",
    "    :return:\n",
    "    \"\"\"\n",
    "    loc = loc.lower()\n",
    "\n",
    "    if loc == 'conus':\n",
    "        xmin = CONUS_EXTENT.x_min + h * 5000 * 30\n",
    "        xmax = CONUS_EXTENT.x_min + h * 5000 * 30 + 5000 * 30\n",
    "        ymax = CONUS_EXTENT.y_max - v * 5000 * 30\n",
    "        ymin = CONUS_EXTENT.y_max - v * 5000 * 30 - 5000 * 30\n",
    "    else:\n",
    "        raise Exception('Location not implemented: {0}'\n",
    "                        .format(loc))\n",
    "\n",
    "    return (GeoExtent(x_min=xmin, x_max=xmax, y_max=ymax, y_min=ymin),\n",
    "            GeoAffine(ul_x=xmin, x_res=30, rot_1=0, ul_y=ymax, rot_2=0, y_res=-30))"
   ]
  },
  {
   "cell_type": "code",
   "execution_count": 13,
   "metadata": {
    "collapsed": true
   },
   "outputs": [],
   "source": [
    "import urllib2\n",
    "\n",
    "__HOST__ = r'http://lcmap-test.cr.usgs.gov/changes/results'\n",
    "__ALGORITHM__ = r'lcmap-pyccd:1.1.0'\n",
    "\n",
    "\n",
    "def api_request(x, y, refresh=False):\n",
    "    endpoint = '/'.join([__HOST__, __ALGORITHM__, str(x), str(y)]) + '?refresh={}'.format(str(refresh).lower())\n",
    "    \n",
    "    request = urllib2.Request(endpoint)\n",
    "\n",
    "    #     base64string = (base64\n",
    "    #                     .encodestring('%s:%s' % (username, password))\n",
    "    #                     .replace('\\n', ''))\n",
    "    #     request.add_header(\"Authorization\", \"Basic %s\" % base64string)\n",
    "\n",
    "    try:\n",
    "        result = urllib2.urlopen(request)\n",
    "    except urllib2.HTTPError as e:\n",
    "        result = e\n",
    "\n",
    "    return json.loads(result.read())"
   ]
  },
  {
   "cell_type": "code",
   "execution_count": 16,
   "metadata": {
    "collapsed": true
   },
   "outputs": [],
   "source": [
    "def request_tile(h, v, refresh=False):\n",
    "    ext, _ = extent_from_hv(h, v)\n",
    "    \n",
    "    resps = []\n",
    "    for y in xrange(ext.y_max, ext.y_max - 5000 * 30, -3000):\n",
    "        for x in xrange(ext.x_min, ext.x_min + 5000 * 30, 3000):\n",
    "            resps.append(api_request(x, y, refresh=refresh))"
   ]
  },
  {
   "cell_type": "code",
   "execution_count": 15,
   "metadata": {
    "collapsed": false
   },
   "outputs": [
    {
     "name": "stdout",
     "output_type": "stream",
     "text": [
      "(1964805, -2265585)\n"
     ]
    }
   ],
   "source": [
    "request_tile(2, 9, True)"
   ]
  }
 ],
 "metadata": {
  "anaconda-cloud": {},
  "kernelspec": {
   "display_name": "Python [conda env:json-matlab]",
   "language": "python",
   "name": "conda-env-json-matlab-py"
  },
  "language_info": {
   "codemirror_mode": {
    "name": "ipython",
    "version": 2
   },
   "file_extension": ".py",
   "mimetype": "text/x-python",
   "name": "python",
   "nbconvert_exporter": "python",
   "pygments_lexer": "ipython2",
   "version": "2.7.13"
  }
 },
 "nbformat": 4,
 "nbformat_minor": 0
}
